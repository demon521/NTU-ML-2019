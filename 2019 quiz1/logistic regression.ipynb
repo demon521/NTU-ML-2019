{
 "cells": [
  {
   "cell_type": "code",
   "execution_count": 23,
   "metadata": {},
   "outputs": [],
   "source": [
    "import sys\n",
    "import numpy as np\n",
    "import pandas as pd\n",
    "import csv"
   ]
  },
  {
   "cell_type": "markdown",
   "metadata": {},
   "source": [
    "## 2 Read in training set"
   ]
  },
  {
   "cell_type": "code",
   "execution_count": 87,
   "metadata": {},
   "outputs": [
    {
     "data": {
      "text/html": [
       "<div>\n",
       "<style scoped>\n",
       "    .dataframe tbody tr th:only-of-type {\n",
       "        vertical-align: middle;\n",
       "    }\n",
       "\n",
       "    .dataframe tbody tr th {\n",
       "        vertical-align: top;\n",
       "    }\n",
       "\n",
       "    .dataframe thead th {\n",
       "        text-align: right;\n",
       "    }\n",
       "</style>\n",
       "<table border=\"1\" class=\"dataframe\">\n",
       "  <thead>\n",
       "    <tr style=\"text-align: right;\">\n",
       "      <th></th>\n",
       "      <th>date</th>\n",
       "      <th>location</th>\n",
       "      <th>what</th>\n",
       "      <th>0</th>\n",
       "      <th>1</th>\n",
       "      <th>2</th>\n",
       "      <th>3</th>\n",
       "      <th>4</th>\n",
       "      <th>5</th>\n",
       "      <th>6</th>\n",
       "      <th>...</th>\n",
       "      <th>14</th>\n",
       "      <th>15</th>\n",
       "      <th>16</th>\n",
       "      <th>17</th>\n",
       "      <th>18</th>\n",
       "      <th>19</th>\n",
       "      <th>20</th>\n",
       "      <th>21</th>\n",
       "      <th>22</th>\n",
       "      <th>23</th>\n",
       "    </tr>\n",
       "  </thead>\n",
       "  <tbody>\n",
       "    <tr>\n",
       "      <th>0</th>\n",
       "      <td>2014/1/1</td>\n",
       "      <td>station</td>\n",
       "      <td>AMB_TEMP</td>\n",
       "      <td>14</td>\n",
       "      <td>14</td>\n",
       "      <td>14</td>\n",
       "      <td>13</td>\n",
       "      <td>12</td>\n",
       "      <td>12</td>\n",
       "      <td>12</td>\n",
       "      <td>...</td>\n",
       "      <td>22</td>\n",
       "      <td>22</td>\n",
       "      <td>21</td>\n",
       "      <td>19</td>\n",
       "      <td>17</td>\n",
       "      <td>16</td>\n",
       "      <td>15</td>\n",
       "      <td>15</td>\n",
       "      <td>15</td>\n",
       "      <td>15</td>\n",
       "    </tr>\n",
       "    <tr>\n",
       "      <th>1</th>\n",
       "      <td>2014/1/1</td>\n",
       "      <td>station</td>\n",
       "      <td>CH4</td>\n",
       "      <td>1.8</td>\n",
       "      <td>1.8</td>\n",
       "      <td>1.8</td>\n",
       "      <td>1.8</td>\n",
       "      <td>1.8</td>\n",
       "      <td>1.8</td>\n",
       "      <td>1.8</td>\n",
       "      <td>...</td>\n",
       "      <td>1.8</td>\n",
       "      <td>1.8</td>\n",
       "      <td>1.8</td>\n",
       "      <td>1.8</td>\n",
       "      <td>1.8</td>\n",
       "      <td>1.8</td>\n",
       "      <td>1.8</td>\n",
       "      <td>1.8</td>\n",
       "      <td>1.8</td>\n",
       "      <td>1.8</td>\n",
       "    </tr>\n",
       "    <tr>\n",
       "      <th>2</th>\n",
       "      <td>2014/1/1</td>\n",
       "      <td>station</td>\n",
       "      <td>CO</td>\n",
       "      <td>0.51</td>\n",
       "      <td>0.41</td>\n",
       "      <td>0.39</td>\n",
       "      <td>0.37</td>\n",
       "      <td>0.35</td>\n",
       "      <td>0.3</td>\n",
       "      <td>0.37</td>\n",
       "      <td>...</td>\n",
       "      <td>0.37</td>\n",
       "      <td>0.37</td>\n",
       "      <td>0.47</td>\n",
       "      <td>0.69</td>\n",
       "      <td>0.56</td>\n",
       "      <td>0.45</td>\n",
       "      <td>0.38</td>\n",
       "      <td>0.35</td>\n",
       "      <td>0.36</td>\n",
       "      <td>0.32</td>\n",
       "    </tr>\n",
       "    <tr>\n",
       "      <th>3</th>\n",
       "      <td>2014/1/1</td>\n",
       "      <td>station</td>\n",
       "      <td>NMHC</td>\n",
       "      <td>0.2</td>\n",
       "      <td>0.15</td>\n",
       "      <td>0.13</td>\n",
       "      <td>0.12</td>\n",
       "      <td>0.11</td>\n",
       "      <td>0.06</td>\n",
       "      <td>0.1</td>\n",
       "      <td>...</td>\n",
       "      <td>0.1</td>\n",
       "      <td>0.13</td>\n",
       "      <td>0.14</td>\n",
       "      <td>0.23</td>\n",
       "      <td>0.18</td>\n",
       "      <td>0.12</td>\n",
       "      <td>0.1</td>\n",
       "      <td>0.09</td>\n",
       "      <td>0.1</td>\n",
       "      <td>0.08</td>\n",
       "    </tr>\n",
       "    <tr>\n",
       "      <th>4</th>\n",
       "      <td>2014/1/1</td>\n",
       "      <td>station</td>\n",
       "      <td>NO</td>\n",
       "      <td>0.9</td>\n",
       "      <td>0.6</td>\n",
       "      <td>0.5</td>\n",
       "      <td>1.7</td>\n",
       "      <td>1.8</td>\n",
       "      <td>1.5</td>\n",
       "      <td>1.9</td>\n",
       "      <td>...</td>\n",
       "      <td>2.5</td>\n",
       "      <td>2.2</td>\n",
       "      <td>2.5</td>\n",
       "      <td>2.3</td>\n",
       "      <td>2.1</td>\n",
       "      <td>1.9</td>\n",
       "      <td>1.5</td>\n",
       "      <td>1.6</td>\n",
       "      <td>1.8</td>\n",
       "      <td>1.5</td>\n",
       "    </tr>\n",
       "  </tbody>\n",
       "</table>\n",
       "<p>5 rows × 27 columns</p>\n",
       "</div>"
      ],
      "text/plain": [
       "       date location      what     0     1     2     3     4     5     6  \\\n",
       "0  2014/1/1  station  AMB_TEMP    14    14    14    13    12    12    12   \n",
       "1  2014/1/1  station       CH4   1.8   1.8   1.8   1.8   1.8   1.8   1.8   \n",
       "2  2014/1/1  station        CO  0.51  0.41  0.39  0.37  0.35   0.3  0.37   \n",
       "3  2014/1/1  station      NMHC   0.2  0.15  0.13  0.12  0.11  0.06   0.1   \n",
       "4  2014/1/1  station        NO   0.9   0.6   0.5   1.7   1.8   1.5   1.9   \n",
       "\n",
       "   ...     14    15    16    17    18    19    20    21    22    23  \n",
       "0  ...     22    22    21    19    17    16    15    15    15    15  \n",
       "1  ...    1.8   1.8   1.8   1.8   1.8   1.8   1.8   1.8   1.8   1.8  \n",
       "2  ...   0.37  0.37  0.47  0.69  0.56  0.45  0.38  0.35  0.36  0.32  \n",
       "3  ...    0.1  0.13  0.14  0.23  0.18  0.12   0.1  0.09   0.1  0.08  \n",
       "4  ...    2.5   2.2   2.5   2.3   2.1   1.9   1.5   1.6   1.8   1.5  \n",
       "\n",
       "[5 rows x 27 columns]"
      ]
     },
     "execution_count": 87,
     "metadata": {},
     "output_type": "execute_result"
    }
   ],
   "source": [
    "train_data = pd.read_csv('train.csv')\n",
    "train_data.head()"
   ]
  },
  {
   "cell_type": "code",
   "execution_count": 104,
   "metadata": {},
   "outputs": [],
   "source": [
    "raw_data = np.genfromtxt('train.csv', delimiter=',') ## train.csv\n",
    "data = raw_data[1:,3:]\n",
    "where_are_NaNs = np.isnan(data)\n",
    "data[where_are_NaNs] = 0 \n",
    "\n",
    "month_to_data = {}  ## Dictionary (key:month , value:data)                                  \n",
    "\n",
    "for month in range(12):\n",
    "    sample = np.empty(shape = (18 , 480))\n",
    "    for day in range(20):\n",
    "        for hour in range(24): \n",
    "            sample[:,day * 24 + hour] = data[18 * (month * 20 + day): 18 * (month * 20 + day + 1),hour]\n",
    "    month_to_data[month] = sample  "
   ]
  },
  {
   "cell_type": "markdown",
   "metadata": {},
   "source": [
    "## 3 proprocess "
   ]
  },
  {
   "cell_type": "code",
   "execution_count": 141,
   "metadata": {},
   "outputs": [],
   "source": [
    "x = np.empty(shape = (12 * 471 , 18 * 9),dtype = float)\n",
    "y = np.empty(shape = (12 * 471 , 1),dtype = float)\n",
    "\n",
    "for month in range(12): \n",
    "    for day in range(20): \n",
    "        for hour in range(24):   \n",
    "            if day == 19 and hour > 14:\n",
    "                continue  \n",
    "            x[month * 471 + day * 24 + hour,:] = month_to_data[month][:,day * 24 + hour : day * 24 + hour + 9].reshape(1,-1) \n",
    "            y[month * 471 + day * 24 + hour,0] = month_to_data[month][9 ,day * 24 + hour + 9]"
   ]
  },
  {
   "cell_type": "code",
   "execution_count": 142,
   "metadata": {},
   "outputs": [
    {
     "name": "stdout",
     "output_type": "stream",
     "text": [
      "[[14.  14.  14.  ...  2.   2.   0.5]\n",
      " [14.  14.  13.  ...  2.   0.5  0.3]\n",
      " [14.  13.  12.  ...  0.5  0.3  0.8]\n",
      " ...\n",
      " [17.  18.  19.  ...  1.1  1.4  1.3]\n",
      " [18.  19.  18.  ...  1.4  1.3  1.6]\n",
      " [19.  18.  17.  ...  1.3  1.6  1.8]]\n"
     ]
    }
   ],
   "source": [
    "print(x)"
   ]
  },
  {
   "cell_type": "code",
   "execution_count": 143,
   "metadata": {},
   "outputs": [
    {
     "data": {
      "text/plain": [
       "(5652, 162)"
      ]
     },
     "execution_count": 143,
     "metadata": {},
     "output_type": "execute_result"
    }
   ],
   "source": [
    "x.shape"
   ]
  },
  {
   "cell_type": "code",
   "execution_count": 144,
   "metadata": {},
   "outputs": [
    {
     "data": {
      "text/plain": [
       "array([[14. , 14. , 14. , ...,  2. ,  2. ,  0.5],\n",
       "       [14. , 14. , 13. , ...,  2. ,  0.5,  0.3],\n",
       "       [14. , 13. , 12. , ...,  0.5,  0.3,  0.8],\n",
       "       ...,\n",
       "       [17. , 18. , 19. , ...,  1.1,  1.4,  1.3],\n",
       "       [18. , 19. , 18. , ...,  1.4,  1.3,  1.6],\n",
       "       [19. , 18. , 17. , ...,  1.3,  1.6,  1.8]])"
      ]
     },
     "execution_count": 144,
     "metadata": {},
     "output_type": "execute_result"
    }
   ],
   "source": [
    "x"
   ]
  },
  {
   "cell_type": "code",
   "execution_count": 145,
   "metadata": {},
   "outputs": [],
   "source": [
    "mean = np.mean(x, axis = 0) \n",
    "std = np.std(x, axis = 0)\n",
    "for i in range(x.shape[0]):\n",
    "    for j in range(x.shape[1]):\n",
    "        if not std[j] == 0 :\n",
    "            x[i][j] = (x[i][j]- mean[j]) / std[j]"
   ]
  },
  {
   "cell_type": "code",
   "execution_count": 116,
   "metadata": {},
   "outputs": [
    {
     "name": "stdout",
     "output_type": "stream",
     "text": [
      "T= 0\n",
      "Loss: 27.071214829194115\n",
      "T= 500\n",
      "Loss: 15.303358672239394\n",
      "T= 1000\n",
      "Loss: 9.957336253580271\n",
      "T= 1500\n",
      "Loss: 7.879329888549473\n",
      "T= 2000\n",
      "Loss: 6.861485712171391\n",
      "T= 2500\n",
      "Loss: 6.339003480940455\n",
      "T= 3000\n",
      "Loss: 6.060560050269416\n",
      "T= 3500\n",
      "Loss: 5.906939151605037\n",
      "T= 4000\n",
      "Loss: 5.819427069726108\n",
      "T= 4500\n",
      "Loss: 5.76811752588932\n",
      "T= 5000\n",
      "Loss: 5.737251324218732\n",
      "T= 5500\n",
      "Loss: 5.718247893619341\n",
      "T= 6000\n",
      "Loss: 5.70629462196756\n",
      "T= 6500\n",
      "Loss: 5.698621259127973\n",
      "T= 7000\n",
      "Loss: 5.693596789769688\n",
      "T= 7500\n",
      "Loss: 5.690241610223954\n",
      "T= 8000\n",
      "Loss: 5.687956629045994\n",
      "T= 8500\n",
      "Loss: 5.686369228004014\n",
      "T= 9000\n",
      "Loss: 5.685243884510883\n",
      "T= 9500\n",
      "Loss: 5.684429390954337\n"
     ]
    }
   ],
   "source": [
    "dim = x.shape[1] + 1 \n",
    "w = np.zeros(shape = (dim, 1 ))\n",
    "x = np.concatenate((np.ones((x.shape[0], 1 )), x) , axis = 1).astype(float)\n",
    "learning_rate = np.array([[200]] * dim)\n",
    "adagrad_sum = np.zeros(shape = (dim, 1 ))\n",
    " \n",
    "for T in range(10000):\n",
    "    if(T % 500 == 0 ):\n",
    "        print(\"T=\",T)\n",
    "        print(\"Loss:\",np.power(np.sum(np.power(x.dot(w) - y, 2 ))/ x.shape[0],0.5))\n",
    "    gradient = (-2) * np.transpose(x).dot(y-x.dot(w))\n",
    "    adagrad_sum += gradient ** 2\n",
    "    w = w - learning_rate * gradient / (np.sqrt(adagrad_sum) + 0.0005)\n",
    "\n",
    "np.save('weight.npy',w)     ## save weight"
   ]
  },
  {
   "cell_type": "code",
   "execution_count": 117,
   "metadata": {},
   "outputs": [],
   "source": [
    "w = np.load('weight.npy')                                   ## load weight\n",
    "test_raw_data = np.genfromtxt('test.csv', delimiter=',')   ## test.csv\n",
    "test_data = test_raw_data[:, 2: ]\n",
    "where_are_NaNs = np.isnan(test_data)\n",
    "test_data[where_are_NaNs] = 0 "
   ]
  },
  {
   "cell_type": "code",
   "execution_count": 118,
   "metadata": {},
   "outputs": [],
   "source": [
    "test_x = np.empty(shape = (240, 18 * 9),dtype = float)\n",
    "\n",
    "for i in range(240):\n",
    "    test_x[i,:] = test_data[18 * i : 18 * (i+1),:].reshape(1,-1) \n",
    "\n",
    "for i in range(test_x.shape[0]):        ##Normalization\n",
    "    for j in range(test_x.shape[1]):\n",
    "        if not std[j] == 0 :\n",
    "            test_x[i][j] = (test_x[i][j]- mean[j]) / std[j]\n",
    "\n",
    "test_x = np.concatenate((np.ones(shape = (test_x.shape[0],1)),test_x),axis = 1).astype(float)\n",
    "answer = test_x.dot(w)"
   ]
  },
  {
   "cell_type": "code",
   "execution_count": 130,
   "metadata": {},
   "outputs": [],
   "source": [
    "f = open('result.csv',\"w\")\n",
    "w = csv.writer(f)\n",
    "title = ['id','value']\n",
    "w.writerow(title) \n",
    "for i in range(240):\n",
    "    content = ['id_'+str(i),answer[i][0]]\n",
    "    w.writerow(content) "
   ]
  },
  {
   "cell_type": "code",
   "execution_count": null,
   "metadata": {},
   "outputs": [],
   "source": []
  }
 ],
 "metadata": {
  "kernelspec": {
   "display_name": "Python 3",
   "language": "python",
   "name": "python3"
  },
  "language_info": {
   "codemirror_mode": {
    "name": "ipython",
    "version": 3
   },
   "file_extension": ".py",
   "mimetype": "text/x-python",
   "name": "python",
   "nbconvert_exporter": "python",
   "pygments_lexer": "ipython3",
   "version": "3.6.5"
  }
 },
 "nbformat": 4,
 "nbformat_minor": 2
}
